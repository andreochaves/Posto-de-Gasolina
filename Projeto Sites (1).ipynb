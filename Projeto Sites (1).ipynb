{
  "cells": [
    {
      "metadata": {},
      "cell_type": "markdown",
      "source": "# Fase 1: Apresentação do Projeto"
    },
    {
      "metadata": {},
      "cell_type": "markdown",
      "source": "## Altos preços de combustível\n\nComparado a outros países, o Brasil tem altos índices de preço de combustíveis, a necessidade de ter vários funcionários em um posto de gasolina agrava ainda mais esse cenário. Gastos com segurança e altos impostos sobre o combustível são agravantes do problema.\n\nPara enterdemos melhor esse cenario, precisamos conhecer a politica de preços da petrobras. Desde 2016, quando o Michel Temer assumiu a presidencia, ele adotou uma politica de preços que priorizava a exportação do petroleo brasileiro para outros países, diminuindo a capacidade de nossas refinarias e importando o petroleo já refinado. Para mais informações [clique aqui](https://www.youtube.com/watch?v=sV-xFUvskdc\"Youtube\")."
    },
    {
      "metadata": {},
      "cell_type": "markdown",
      "source": "![preçoGasolina](https://correio-cdn1.cworks.cloud/fileadmin/user_upload/correio24horas/2019/04/19/combustivel_web02.jpg)"
    },
    {
      "metadata": {},
      "cell_type": "markdown",
      "source": "### Composição de preços ao consumidor\nDe acordo com a Petrobras, o preço que os consumidores pagam nas bombas é formado por: 31% são os custos de operação da empresa para produzir o combustível, 10% são impostos da União (Cide, PIS/Cofins), 28% são impostos estaduais (Imposto sobre a Circulação de Mercadorias e Serviços – ICMS), 15% é o custo do etanol adicionado à gasolina e 16% se refere à distribuição e revenda.\n</hr>"
    },
    {
      "metadata": {},
      "cell_type": "markdown",
      "source": "![preçosGasolina](https://dinheirama.com/wp-content/uploads/2016/02/20160221-dinheirama-gasolina2.png)"
    },
    {
      "metadata": {
        "trusted": true
      },
      "cell_type": "markdown",
      "source": " "
    },
    {
      "metadata": {
        "trusted": true
      },
      "cell_type": "markdown",
      "source": "# Fase 2: Atacando parte do problema"
    },
    {
      "metadata": {
        "trusted": true
      },
      "cell_type": "markdown",
      "source": "No dia a dia dos motoristas brasileiros há diversos desafios, e um dos maiores deles, senão o maior, é onde encontrar combustível em um preço acessível. Nosso projeto tem como objetivo facilitar essa procura dos motoristas por preços mais competitivos, vamos buscar desenvolver um software que utilize da localização atual do usuário para apontar onde ele poderá achar preços mais baixos de determinados combustíveis em sua região atual. "
    },
    {
      "metadata": {},
      "cell_type": "markdown",
      "source": "### O código"
    },
    {
      "metadata": {
        "trusted": true
      },
      "cell_type": "markdown",
      "source": "# Fase 3: Implementando a solução"
    },
    {
      "metadata": {},
      "cell_type": "markdown",
      "source": "## Documentando o código "
    },
    {
      "metadata": {},
      "cell_type": "markdown",
      "source": "Iniciaremos o algoritmo com um dicionário, que por sua vez armazenará todos os dados do código, como valores dos produtos e endereço dos estabelecimentos. "
    },
    {
      "metadata": {
        "trusted": true
      },
      "cell_type": "code",
      "source": "projeto = {'Posto Fragata':['preço: 4.55','local: Rua Flautista, S/N'],\n           'Posto Sagui III':['preço: 5.00', 'local: Av. Des. Mário da Silva Nunes, 1214 - Jardim Limoeiro'],\n           'Posto Serra Linda':['preço: 4.87','local: Av. Civit, 386 - Civit II'],\n           'Posto Dois Irmãos':['preço: 4.42','Rod, ES-010, 48 - Camará'],\n           'Posto Central':['preço: 5.10','Rotatória da Avenida Eudes Scherrer de Souza, 2100'],\n           'Auto Posto Colina':['preço: 4.77','Auto Posto Colina'],\n           'Posto Avenida':['preço: 4.25','local: Av. Norte Sul, 3888']\n    \n}",
      "execution_count": null,
      "outputs": []
    },
    {
      "metadata": {},
      "cell_type": "markdown",
      "source": "Em seguida, declaramos uma variável para interagir com o usuário, usaremos o valor dela como chave do dicionário."
    },
    {
      "metadata": {
        "trusted": true
      },
      "cell_type": "code",
      "source": "usuario = input('Digite o nome do posto que deseja consultar: ')\n",
      "execution_count": null,
      "outputs": []
    },
    {
      "metadata": {},
      "cell_type": "markdown",
      "source": "Em seguida, o for percorrerá o dicionário atrás alguma chave com o valor compatível com a variável, essa comparação é feito pelo if, caso encontre, a chave em questão terá seu valor mostrado para o usuário."
    },
    {
      "metadata": {
        "trusted": true
      },
      "cell_type": "code",
      "source": "for k, v in projeto.items():\n  if usuario in k:\n    print(v)",
      "execution_count": null,
      "outputs": []
    },
    {
      "metadata": {},
      "cell_type": "markdown",
      "source": "Se a variável usuario receber o valor \"todos\", uma lista com o nome de todos os postos de gasolina será mostrada."
    },
    {
      "metadata": {
        "trusted": true
      },
      "cell_type": "code",
      "source": "if usuario == 'todos':\n  print()\n  print('Lista de Postos de gasolina na Grande Vitoria:\\n')\n  for k in projeto:\n    print(k)",
      "execution_count": null,
      "outputs": []
    },
    {
      "metadata": {},
      "cell_type": "markdown",
      "source": "Em seguida, o usuário terá opção de escolher um posto para consultar suas informações."
    },
    {
      "metadata": {
        "trusted": true
      },
      "cell_type": "code",
      "source": "usuario = input('Deseja consultar o preço de algum posto ? ')",
      "execution_count": null,
      "outputs": []
    },
    {
      "metadata": {},
      "cell_type": "markdown",
      "source": "Caso ele tenha desejo de consultar algum posto, o programa solicitará o nome do mesmo. "
    },
    {
      "metadata": {
        "trusted": true
      },
      "cell_type": "code",
      "source": "if usuario == 'sim':\n    usuario = input('Digite o nome do posto que deseja consultar: ')",
      "execution_count": null,
      "outputs": []
    },
    {
      "metadata": {},
      "cell_type": "markdown",
      "source": "De acordo com o valor que a variável receber, o for percorrerá o dicionário atrás alguma chave com o valor compatível com a variável, essa comparação é feito pelo if, caso encontre, a chave em questão terá seu valor na posição 0 mostrado."
    },
    {
      "metadata": {
        "trusted": true
      },
      "cell_type": "code",
      "source": "for k, v in projeto.items():\n      if usuario in k:\n        print(v[0])",
      "execution_count": null,
      "outputs": []
    },
    {
      "metadata": {},
      "cell_type": "markdown",
      "source": "Em seguida, declaramos uma nova variável, ela também interagirá com o usuário, dando-o escolha de saber o endereço do posto anteriormente escolhido pelo mesmo."
    },
    {
      "metadata": {
        "trusted": true,
        "scrolled": true
      },
      "cell_type": "code",
      "source": "usuario2 = input('Quer saber onde fica o posto ? ')\nif usuario2 == 'sim':\n    print(v[1])",
      "execution_count": null,
      "outputs": []
    },
    {
      "metadata": {
        "trusted": true
      },
      "cell_type": "code",
      "source": "",
      "execution_count": null,
      "outputs": []
    }
  ],
  "metadata": {
    "kernelspec": {
      "name": "python36",
      "display_name": "Python 3.6",
      "language": "python"
    },
    "language_info": {
      "mimetype": "text/x-python",
      "nbconvert_exporter": "python",
      "name": "python",
      "pygments_lexer": "ipython3",
      "version": "3.6.6",
      "file_extension": ".py",
      "codemirror_mode": {
        "version": 3,
        "name": "ipython"
      }
    }
  },
  "nbformat": 4,
  "nbformat_minor": 2
}