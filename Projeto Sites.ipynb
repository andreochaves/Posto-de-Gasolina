{
  "cells": [
    {
      "metadata": {
        "collapsed": true
      },
      "cell_type": "markdown",
      "source": "<h1> Modelagem de Projeto </h1>"
    },
    {
      "metadata": {},
      "cell_type": "markdown",
      "source": "<h3>Altos preços dos combustível: \n\nComparado a outros países, o Brasil tem altos índices de preço de combustíveis, a necessidade de ter vários funcionários em um posto de gasolina agrava ainda mais esse cenário. Gastos com segurança e altos impostos sobre o combustível são agravantes do problema. </h3>"
    },
    {
      "metadata": {},
      "cell_type": "markdown",
      "source": "<h5>O preço da gasolina nas refinarias é por volta de R\\$ 1,83 por litro, no entanto devido a altos gastos com logistica de transporte, funcionários e impostos, o preço passado ao consumidor pode chegar a R\\$ 5,00 por litro.</h5>"
    },
    {
      "metadata": {},
      "cell_type": "markdown",
      "source": "<h5> No caso do dísel o contraste é o mesmo, nas refinarias o preço dele é por volta de R\\$ 2,14 e é comprado pelo consumidor à. R\\$3,55 </h5>"
    },
    {
      "metadata": {
        "trusted": true
      },
      "cell_type": "markdown",
      "source": "https://www.gazetaonline.com.br/noticias/economia/2018/09/preco-da-gasolina-nao-para-de-subir-e-chega-a-r-5-15-no-es-1014148709.html"
    },
    {
      "metadata": {
        "trusted": true
      },
      "cell_type": "code",
      "source": "",
      "execution_count": null,
      "outputs": []
    }
  ],
  "metadata": {
    "kernelspec": {
      "name": "python36",
      "display_name": "Python 3.6",
      "language": "python"
    },
    "language_info": {
      "mimetype": "text/x-python",
      "nbconvert_exporter": "python",
      "name": "python",
      "pygments_lexer": "ipython3",
      "version": "3.6.6",
      "file_extension": ".py",
      "codemirror_mode": {
        "version": 3,
        "name": "ipython"
      }
    }
  },
  "nbformat": 4,
  "nbformat_minor": 2
}