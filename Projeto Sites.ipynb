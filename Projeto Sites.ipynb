{
  "cells": [
    {
      "metadata": {},
      "cell_type": "markdown",
      "source": "# Fase 1: Apresentação do Projeto"
    },
    {
      "metadata": {},
      "cell_type": "markdown",
      "source": "## Altos preços de combustível\n\nComparado a outros países, o Brasil tem altos índices de preço de combustíveis, a necessidade de ter vários funcionários em um posto de gasolina agrava ainda mais esse cenário. Gastos com segurança e altos impostos sobre o combustível são agravantes do problema.\n\nPara enterdemos melhor esse cenario, precisamos conhecer a politica de preços da petrobras. Desde 2016, quando o Michel Temer assumiu a presidencia, ele adotou uma politica de preços que priorizava a exportação do petroleo brasileiro para outros países, diminuindo a capacidade de nossas refinarias e importando o petroleo já refinado. Para mais informações [clique aqui](https://www.youtube.com/watch?v=sV-xFUvskdc\"Youtube\")."
    },
    {
      "metadata": {},
      "cell_type": "markdown",
      "source": "![preçoGasolina](https://correio-cdn1.cworks.cloud/fileadmin/user_upload/correio24horas/2019/04/19/combustivel_web02.jpg)"
    },
    {
      "metadata": {},
      "cell_type": "markdown",
      "source": "### Composição de preços ao consumidor\nDe acordo com a Petrobras, o preço que os consumidores pagam nas bombas é formado por: 31% são os custos de operação da empresa para produzir o combustível, 10% são impostos da União (Cide, PIS/Cofins), 28% são impostos estaduais (Imposto sobre a Circulação de Mercadorias e Serviços – ICMS), 15% é o custo do etanol adicionado à gasolina e 16% se refere à distribuição e revenda.\n</hr>"
    },
    {
      "metadata": {},
      "cell_type": "markdown",
      "source": "![preçosGasolina](https://dinheirama.com/wp-content/uploads/2016/02/20160221-dinheirama-gasolina2.png)"
    },
    {
      "metadata": {
        "trusted": true
      },
      "cell_type": "markdown",
      "source": " "
    },
    {
      "metadata": {
        "trusted": true
      },
      "cell_type": "markdown",
      "source": "# Fase 2: Atacando parte do problema"
    },
    {
      "metadata": {
        "trusted": true
      },
      "cell_type": "markdown",
      "source": "No dia a dia dos motoristas brasileiros há diversos desafios, e um dos maiores deles, senão o maior, é onde encontrar combustível em um preço acessível. Nosso projeto tem como objetivo facilitar essa procura dos motoristas por preços mais competitivos, vamos buscar desenvolver um software que utilize da localização atual do usuário para apontar onde ele poderá achar preços mais baixos de determinados combustíveis em sua região atual. "
    },
    {
      "metadata": {},
      "cell_type": "markdown",
      "source": "### O código"
    },
    {
      "metadata": {
        "trusted": true
      },
      "cell_type": "markdown",
      "source": "# Fase 3: Implementando a solução"
    },
    {
      "metadata": {},
      "cell_type": "markdown",
      "source": "## Documentando o código "
    },
    {
      "metadata": {},
      "cell_type": "markdown",
      "source": "Iniciaremos o algoritmo com um dicionário, que por sua vez armazenará todos os dados do código, como valores dos produtos e endereço dos estabelecimentos. "
    },
    {
      "metadata": {
        "trusted": true
      },
      "cell_type": "code",
      "source": "projeto = {'Posto Fragata':['preço: 4.55','local: Rua Flautista, S/N'],\n           'Posto Sagui III':['preço: 5.00', 'local: Av. Des. Mário da Silva Nunes, 1214 - Jardim Limoeiro'],\n           'Posto Serra Linda':['preço: 4.87','local: Av. Civit, 386 - Civit II'],\n           'Posto Dois Irmãos':['preço: 4.42','Rod, ES-010, 48 - Camará'],\n           'Posto Central':['preço: 5.10','Rotatória da Avenida Eudes Scherrer de Souza, 2100'],\n           'Auto Posto Colina':['preço: 4.77','Auto Posto Colina'],\n           'Posto Avenida':['preço: 4.25','local: Av. Norte Sul, 3888']\n    \n}",
      "execution_count": 2,
      "outputs": []
    },
    {
      "metadata": {},
      "cell_type": "markdown",
      "source": "Em seguida, declaramos uma variável para interagir com o usuário, usaremos o valor dela como chave do dicionário."
    },
    {
      "metadata": {
        "trusted": true
      },
      "cell_type": "code",
      "source": "usuario = input('Digite o nome do posto que deseja consultar: ')\n",
      "execution_count": 3,
      "outputs": [
        {
          "output_type": "stream",
          "name": "stdout",
          "text": "Digite o nome do posto que deseja consultar: todos\n"
        }
      ]
    },
    {
      "metadata": {},
      "cell_type": "markdown",
      "source": "Em seguida, o for percorrerá o dicionário atrás alguma chave com o valor compatível com a variável, essa comparação é feito pelo if, caso encontre, a chave em questão terá seu valor mostrado para o usuário."
    },
    {
      "metadata": {
        "trusted": true
      },
      "cell_type": "code",
      "source": "for k, v in projeto.items():\n  if usuario in k:\n    print(v)",
      "execution_count": 4,
      "outputs": []
    },
    {
      "metadata": {},
      "cell_type": "markdown",
      "source": "Se a variável usuario receber o valor \"todos\", uma lista com o nome de todos os postos de gasolina será mostrada."
    },
    {
      "metadata": {
        "trusted": true
      },
      "cell_type": "code",
      "source": "if usuario == 'todos':\n  print()\n  print('Lista de Postos de gasolina na Grande Vitoria:\\n')\n  for k in projeto:\n    print(k)",
      "execution_count": 5,
      "outputs": [
        {
          "output_type": "stream",
          "text": "\nLista de Postos de gasolina na Grande Vitoria:\n\nPosto Fragata\nPosto Sagui III\nPosto Serra Linda\nPosto Dois Irmãos\nPosto Central\nAuto Posto Colina\nPosto Avenida\n",
          "name": "stdout"
        }
      ]
    },
    {
      "metadata": {},
      "cell_type": "markdown",
      "source": "Em seguida, o usuário terá opção de escolher um posto para consultar suas informações."
    },
    {
      "metadata": {
        "trusted": true
      },
      "cell_type": "code",
      "source": "usuario = input('Deseja consultar o preço de algum posto ? ')",
      "execution_count": 11,
      "outputs": [
        {
          "output_type": "error",
          "ename": "KeyboardInterrupt",
          "evalue": "",
          "traceback": [
            "\u001b[0;31m---------------------------------------------------------------------------\u001b[0m",
            "\u001b[0;31mKeyboardInterrupt\u001b[0m                         Traceback (most recent call last)",
            "\u001b[0;32m~/anaconda3_501/lib/python3.6/site-packages/ipykernel/kernelbase.py\u001b[0m in \u001b[0;36m_input_request\u001b[0;34m(self, prompt, ident, parent, password)\u001b[0m\n\u001b[1;32m    877\u001b[0m             \u001b[0;32mtry\u001b[0m\u001b[0;34m:\u001b[0m\u001b[0;34m\u001b[0m\u001b[0m\n\u001b[0;32m--> 878\u001b[0;31m                 \u001b[0mident\u001b[0m\u001b[0;34m,\u001b[0m \u001b[0mreply\u001b[0m \u001b[0;34m=\u001b[0m \u001b[0mself\u001b[0m\u001b[0;34m.\u001b[0m\u001b[0msession\u001b[0m\u001b[0;34m.\u001b[0m\u001b[0mrecv\u001b[0m\u001b[0;34m(\u001b[0m\u001b[0mself\u001b[0m\u001b[0;34m.\u001b[0m\u001b[0mstdin_socket\u001b[0m\u001b[0;34m,\u001b[0m \u001b[0;36m0\u001b[0m\u001b[0;34m)\u001b[0m\u001b[0;34m\u001b[0m\u001b[0m\n\u001b[0m\u001b[1;32m    879\u001b[0m             \u001b[0;32mexcept\u001b[0m \u001b[0mException\u001b[0m\u001b[0;34m:\u001b[0m\u001b[0;34m\u001b[0m\u001b[0m\n",
            "\u001b[0;32m~/anaconda3_501/lib/python3.6/site-packages/jupyter_client/session.py\u001b[0m in \u001b[0;36mrecv\u001b[0;34m(self, socket, mode, content, copy)\u001b[0m\n\u001b[1;32m    802\u001b[0m         \u001b[0;32mtry\u001b[0m\u001b[0;34m:\u001b[0m\u001b[0;34m\u001b[0m\u001b[0m\n\u001b[0;32m--> 803\u001b[0;31m             \u001b[0mmsg_list\u001b[0m \u001b[0;34m=\u001b[0m \u001b[0msocket\u001b[0m\u001b[0;34m.\u001b[0m\u001b[0mrecv_multipart\u001b[0m\u001b[0;34m(\u001b[0m\u001b[0mmode\u001b[0m\u001b[0;34m,\u001b[0m \u001b[0mcopy\u001b[0m\u001b[0;34m=\u001b[0m\u001b[0mcopy\u001b[0m\u001b[0;34m)\u001b[0m\u001b[0;34m\u001b[0m\u001b[0m\n\u001b[0m\u001b[1;32m    804\u001b[0m         \u001b[0;32mexcept\u001b[0m \u001b[0mzmq\u001b[0m\u001b[0;34m.\u001b[0m\u001b[0mZMQError\u001b[0m \u001b[0;32mas\u001b[0m \u001b[0me\u001b[0m\u001b[0;34m:\u001b[0m\u001b[0;34m\u001b[0m\u001b[0m\n",
            "\u001b[0;32m~/anaconda3_501/lib/python3.6/site-packages/zmq/sugar/socket.py\u001b[0m in \u001b[0;36mrecv_multipart\u001b[0;34m(self, flags, copy, track)\u001b[0m\n\u001b[1;32m    466\u001b[0m         \"\"\"\n\u001b[0;32m--> 467\u001b[0;31m         \u001b[0mparts\u001b[0m \u001b[0;34m=\u001b[0m \u001b[0;34m[\u001b[0m\u001b[0mself\u001b[0m\u001b[0;34m.\u001b[0m\u001b[0mrecv\u001b[0m\u001b[0;34m(\u001b[0m\u001b[0mflags\u001b[0m\u001b[0;34m,\u001b[0m \u001b[0mcopy\u001b[0m\u001b[0;34m=\u001b[0m\u001b[0mcopy\u001b[0m\u001b[0;34m,\u001b[0m \u001b[0mtrack\u001b[0m\u001b[0;34m=\u001b[0m\u001b[0mtrack\u001b[0m\u001b[0;34m)\u001b[0m\u001b[0;34m]\u001b[0m\u001b[0;34m\u001b[0m\u001b[0m\n\u001b[0m\u001b[1;32m    468\u001b[0m         \u001b[0;31m# have first part already, only loop while more to receive\u001b[0m\u001b[0;34m\u001b[0m\u001b[0;34m\u001b[0m\u001b[0m\n",
            "\u001b[0;32mzmq/backend/cython/socket.pyx\u001b[0m in \u001b[0;36mzmq.backend.cython.socket.Socket.recv\u001b[0;34m()\u001b[0m\n",
            "\u001b[0;32mzmq/backend/cython/socket.pyx\u001b[0m in \u001b[0;36mzmq.backend.cython.socket.Socket.recv\u001b[0;34m()\u001b[0m\n",
            "\u001b[0;32mzmq/backend/cython/socket.pyx\u001b[0m in \u001b[0;36mzmq.backend.cython.socket._recv_copy\u001b[0;34m()\u001b[0m\n",
            "\u001b[0;32m~/anaconda3_501/lib/python3.6/site-packages/zmq/backend/cython/checkrc.pxd\u001b[0m in \u001b[0;36mzmq.backend.cython.checkrc._check_rc\u001b[0;34m()\u001b[0m\n",
            "\u001b[0;31mKeyboardInterrupt\u001b[0m: ",
            "\nDuring handling of the above exception, another exception occurred:\n",
            "\u001b[0;31mKeyboardInterrupt\u001b[0m                         Traceback (most recent call last)",
            "\u001b[0;32m<ipython-input-11-6dd6f3f8fb19>\u001b[0m in \u001b[0;36m<module>\u001b[0;34m\u001b[0m\n\u001b[0;32m----> 1\u001b[0;31m \u001b[0musuario\u001b[0m \u001b[0;34m=\u001b[0m \u001b[0minput\u001b[0m\u001b[0;34m(\u001b[0m\u001b[0;34m'Deseja consultar o preço de algum posto ? '\u001b[0m\u001b[0;34m)\u001b[0m\u001b[0;34m\u001b[0m\u001b[0m\n\u001b[0m",
            "\u001b[0;32m~/anaconda3_501/lib/python3.6/site-packages/ipykernel/kernelbase.py\u001b[0m in \u001b[0;36mraw_input\u001b[0;34m(self, prompt)\u001b[0m\n\u001b[1;32m    851\u001b[0m             \u001b[0mself\u001b[0m\u001b[0;34m.\u001b[0m\u001b[0m_parent_ident\u001b[0m\u001b[0;34m,\u001b[0m\u001b[0;34m\u001b[0m\u001b[0m\n\u001b[1;32m    852\u001b[0m             \u001b[0mself\u001b[0m\u001b[0;34m.\u001b[0m\u001b[0m_parent_header\u001b[0m\u001b[0;34m,\u001b[0m\u001b[0;34m\u001b[0m\u001b[0m\n\u001b[0;32m--> 853\u001b[0;31m             \u001b[0mpassword\u001b[0m\u001b[0;34m=\u001b[0m\u001b[0;32mFalse\u001b[0m\u001b[0;34m,\u001b[0m\u001b[0;34m\u001b[0m\u001b[0m\n\u001b[0m\u001b[1;32m    854\u001b[0m         )\n\u001b[1;32m    855\u001b[0m \u001b[0;34m\u001b[0m\u001b[0m\n",
            "\u001b[0;32m~/anaconda3_501/lib/python3.6/site-packages/ipykernel/kernelbase.py\u001b[0m in \u001b[0;36m_input_request\u001b[0;34m(self, prompt, ident, parent, password)\u001b[0m\n\u001b[1;32m    881\u001b[0m             \u001b[0;32mexcept\u001b[0m \u001b[0mKeyboardInterrupt\u001b[0m\u001b[0;34m:\u001b[0m\u001b[0;34m\u001b[0m\u001b[0m\n\u001b[1;32m    882\u001b[0m                 \u001b[0;31m# re-raise KeyboardInterrupt, to truncate traceback\u001b[0m\u001b[0;34m\u001b[0m\u001b[0;34m\u001b[0m\u001b[0m\n\u001b[0;32m--> 883\u001b[0;31m                 \u001b[0;32mraise\u001b[0m \u001b[0mKeyboardInterrupt\u001b[0m\u001b[0;34m\u001b[0m\u001b[0m\n\u001b[0m\u001b[1;32m    884\u001b[0m             \u001b[0;32melse\u001b[0m\u001b[0;34m:\u001b[0m\u001b[0;34m\u001b[0m\u001b[0m\n\u001b[1;32m    885\u001b[0m                 \u001b[0;32mbreak\u001b[0m\u001b[0;34m\u001b[0m\u001b[0m\n",
            "\u001b[0;31mKeyboardInterrupt\u001b[0m: "
          ]
        }
      ]
    },
    {
      "metadata": {},
      "cell_type": "markdown",
      "source": "Caso ele tenha desejo de consultar algum posto, o programa solicitará o nome do mesmo. "
    },
    {
      "metadata": {
        "trusted": true
      },
      "cell_type": "code",
      "source": "if usuario == 'sim':\n    usuario = input('Digite o nome do posto que deseja consultar: ')",
      "execution_count": 7,
      "outputs": [
        {
          "output_type": "stream",
          "name": "stdout",
          "text": "Digite o nome do posto que deseja consultar: Posto Avenida\n"
        }
      ]
    },
    {
      "metadata": {},
      "cell_type": "markdown",
      "source": "De acordo com o valor que a variável receber, o for percorrerá o dicionário atrás alguma chave com o valor compatível com a variável, essa comparação é feito pelo if, caso encontre, a chave em questão terá seu valor na posição 0 mostrado."
    },
    {
      "metadata": {
        "trusted": true
      },
      "cell_type": "code",
      "source": "for k, v in projeto.items():\n      if usuario in k:\n        print(v[0])",
      "execution_count": 8,
      "outputs": [
        {
          "output_type": "stream",
          "text": "preço: 4.25\n",
          "name": "stdout"
        }
      ]
    },
    {
      "metadata": {},
      "cell_type": "markdown",
      "source": "Em seguida, declaramos uma nova variável, ela também interagirá com o usuário, dando-o escolha de saber o endereço do posto anteriormente escolhido pelo mesmo."
    },
    {
      "metadata": {
        "trusted": true,
        "scrolled": true
      },
      "cell_type": "code",
      "source": "usuario2 = input('Quer saber onde fica o posto ? ')\nif usuario2 == 'sim':\n    print(v[1])",
      "execution_count": 10,
      "outputs": [
        {
          "output_type": "stream",
          "name": "stdout",
          "text": "Quer saber onde fica o posto ? sim\nlocal: Av. Norte Sul, 3888\n"
        }
      ]
    },
    {
      "metadata": {
        "trusted": true
      },
      "cell_type": "code",
      "source": "",
      "execution_count": null,
      "outputs": []
    }
  ],
  "metadata": {
    "kernelspec": {
      "name": "python36",
      "display_name": "Python 3.6",
      "language": "python"
    },
    "language_info": {
      "mimetype": "text/x-python",
      "nbconvert_exporter": "python",
      "name": "python",
      "pygments_lexer": "ipython3",
      "version": "3.6.6",
      "file_extension": ".py",
      "codemirror_mode": {
        "version": 3,
        "name": "ipython"
      }
    }
  },
  "nbformat": 4,
  "nbformat_minor": 2
}