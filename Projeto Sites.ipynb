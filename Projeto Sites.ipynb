{
  "cells": [
    {
      "metadata": {},
      "cell_type": "markdown",
      "source": "# Fase 1: Apresentação do Projeto"
    },
    {
      "metadata": {
        "collapsed": true
      },
      "cell_type": "markdown",
      "source": ""
    },
    {
      "metadata": {},
      "cell_type": "markdown",
      "source": "## Altos preços de combustível\n\nComparado a outros países, o Brasil tem altos índices de preço de combustíveis, a necessidade de ter vários funcionários em um posto de gasolina agrava ainda mais esse cenário. Gastos com segurança e altos impostos sobre o combustível são agravantes do problema.\n\nPara enterdemos melhor esse cenario, precisamos conhecer a politica de preços da petrobras. Desde 2016, quando o Michel Temer assumiu a presidencia, ele adotou uma politica de preços que priorizava a exportação do petroleo brasileiro para outros países, diminuindo a capacidade de nossas refinarias e importando o petroleo já refinado. Para mais informações [clique aqui](https://www.youtube.com/watch?v=sV-xFUvskdc\"Youtube\")."
    },
    {
      "metadata": {},
      "cell_type": "markdown",
      "source": "![preçoGasolina](https://correio-cdn1.cworks.cloud/fileadmin/user_upload/correio24horas/2019/04/19/combustivel_web02.jpg)"
    },
    {
      "metadata": {},
      "cell_type": "markdown",
      "source": "### Composição de preços ao consumidor\nDe acordo com a Petrobras, o preço que os consumidores pagam nas bombas é formado por: 31% são os custos de operação da empresa para produzir o combustível, 10% são impostos da União (Cide, PIS/Cofins), 28% são impostos estaduais (Imposto sobre a Circulação de Mercadorias e Serviços – ICMS), 15% é o custo do etanol adicionado à gasolina e 16% se refere à distribuição e revenda.\n</hr>"
    },
    {
      "metadata": {},
      "cell_type": "markdown",
      "source": "![preçosGasolina](https://dinheirama.com/wp-content/uploads/2016/02/20160221-dinheirama-gasolina2.png)"
    },
    {
      "metadata": {
        "trusted": true
      },
      "cell_type": "markdown",
      "source": " "
    },
    {
      "metadata": {
        "trusted": true
      },
      "cell_type": "markdown",
      "source": "# Fase 2: Atacando parte do problema"
    },
    {
      "metadata": {
        "trusted": true
      },
      "cell_type": "markdown",
      "source": "No dia a dia dos motoristas brasileiros há diversos desafios, e um dos maiores deles, senão o maior, é onde encontrar combustível em um preço acessível. Nosso projeto tem como objetivo facilitar essa procura dos motoristas por preços mais competitivos, vamos buscar desenvolver um software que utilize da localização atual do usuário para apontar onde ele poderá achar preços mais baixos de determinados combustíveis em sua região atual. "
    },
    {
      "metadata": {
        "trusted": true
      },
      "cell_type": "markdown",
      "source": ""
    },
    {
      "metadata": {
        "trusted": true
      },
      "cell_type": "markdown",
      "source": ""
    }
  ],
  "metadata": {
    "kernelspec": {
      "name": "python36",
      "display_name": "Python 3.6",
      "language": "python"
    },
    "language_info": {
      "mimetype": "text/x-python",
      "nbconvert_exporter": "python",
      "name": "python",
      "pygments_lexer": "ipython3",
      "version": "3.6.6",
      "file_extension": ".py",
      "codemirror_mode": {
        "version": 3,
        "name": "ipython"
      }
    }
  },
  "nbformat": 4,
  "nbformat_minor": 2
}