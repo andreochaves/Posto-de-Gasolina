{
  "cells": [
    {
      "metadata": {},
      "cell_type": "markdown",
      "source": "# Fase 1: Apresentação do Projeto"
    },
    {
      "metadata": {},
      "cell_type": "markdown",
      "source": "## Altos preços de combustível\n\nComparado a outros países, o Brasil tem altos índices de preço de combustíveis, a necessidade de ter vários funcionários em um posto de gasolina agrava ainda mais esse cenário. Gastos com segurança e altos impostos sobre o combustível são agravantes do problema.\n\nPara entendemos melhor esse cenário, precisamos conhecer a política de preços da Petrobras. Desde 2016, quando o Michel Temer assumiu a presidência, ele adotou uma política de preços que priorizava a exportação do petróleo brasileiro para outros países, diminuindo a capacidade de nossas refinarias e importando o petróleo já refinado. Para mais informações [clique aqui](https://www.youtube.com/watch?v=sV-xFUvskdc\"Youtube\")."
    },
    {
      "metadata": {},
      "cell_type": "markdown",
      "source": "![preçoGasolina](https://correio-cdn1.cworks.cloud/fileadmin/user_upload/correio24horas/2019/04/19/combustivel_web02.jpg)"
    },
    {
      "metadata": {},
      "cell_type": "markdown",
      "source": "### Composição de preços ao consumidor\nDe acordo com a Petrobras, o preço que os consumidores pagam nas bombas é formado por: 31% são os custos de operação da empresa para produzir o combustível, 10% são impostos da União (Cide, PIS/Cofins), 28% são impostos estaduais (Imposto sobre a Circulação de Mercadorias e Serviços – ICMS), 15% é o custo do etanol adicionado à gasolina e 16% se refere à distribuição e revenda.\n</hr>"
    },
    {
      "metadata": {},
      "cell_type": "markdown",
      "source": "![preçosGasolina](https://dinheirama.com/wp-content/uploads/2016/02/20160221-dinheirama-gasolina2.png)"
    },
    {
      "metadata": {
        "trusted": true
      },
      "cell_type": "markdown",
      "source": " "
    },
    {
      "metadata": {
        "trusted": true
      },
      "cell_type": "markdown",
      "source": "# Fase 2: Atacando parte do problema"
    },
    {
      "metadata": {
        "trusted": true
      },
      "cell_type": "markdown",
      "source": "No dia a dia dos motoristas brasileiros há diversos desafios, e um dos maiores deles, senão o maior, é onde encontrar combustível em um preço acessível. Nosso projeto tem como objetivo facilitar essa procura dos motoristas por preços mais competitivos, vamos buscar desenvolver um software que utilize da localização atual do usuário para apontar onde ele poderá achar preços mais baixos de determinados combustíveis em sua região atual. "
    },
    {
      "metadata": {},
      "cell_type": "markdown",
      "source": "# Fase 3: A solução da problematica "
    },
    {
      "metadata": {},
      "cell_type": "markdown",
      "source": "A forma que iremos adotar para amenizar o máximo possível o problema levantado é: Um software que interaja com o usuário, visando orienta-lo sempre a escolher o melhor serviço sem muitos problemas. Através desse software o usuário terá acesso a um banco de dados que conterá as informações de determinados embevecimentos pré-cadastrados. Porém, pode acontecer de um determinado destino pesquisado pelo usuário não ser encontrado no banco de dados inicial. Para evitar tais transtornos, o usuário vai poder adicionar destinos novos, basta fornecer as informações necessárias e cadastra-las no software, tendo acesso sempre que quiser."
    },
    {
      "metadata": {
        "trusted": true
      },
      "cell_type": "markdown",
      "source": "# Fase 4: Implementando a solução"
    },
    {
      "metadata": {},
      "cell_type": "markdown",
      "source": "## Documentando o código "
    },
    {
      "metadata": {},
      "cell_type": "markdown",
      "source": "Iniciaremos o algoritmo importando o a biblioteca **csv**. "
    },
    {
      "metadata": {
        "trusted": true
      },
      "cell_type": "code",
      "source": "import csv",
      "execution_count": 70,
      "outputs": []
    },
    {
      "metadata": {},
      "cell_type": "markdown",
      "source": "Em seguida, declaramos um dicionario e uma lista, o dicionário terá a função de amazenar os valores das lista. Declaramos também uma variavél para receber os valores do arquivo Csv, e outra para ler os dados."
    },
    {
      "metadata": {
        "trusted": true
      },
      "cell_type": "code",
      "source": "projeto = {}\nposto = []\nlistap = open('Lista.csv', 'r')\nleitor = csv.reader(listap, delimiter = ';')",
      "execution_count": 71,
      "outputs": []
    },
    {
      "metadata": {},
      "cell_type": "markdown",
      "source": "Usando o laço for criamos uma relação entre a lista e o dicionário, a cada linha lida no arquivo csv a mesma será transformada em lista e a lista será adicionada ao dicionário. "
    },
    {
      "metadata": {
        "trusted": true
      },
      "cell_type": "code",
      "source": "for x in leitor:\n    posto.append(x)\n    projeto[x[0]] = (x[1], x[2]) ",
      "execution_count": 72,
      "outputs": []
    },
    {
      "metadata": {},
      "cell_type": "markdown",
      "source": "Declaramos uma variável para se comunicar com o usuário."
    },
    {
      "metadata": {
        "trusted": true
      },
      "cell_type": "code",
      "source": "usuario = input('Digite o nome do posto que deseja consultar: ')\n",
      "execution_count": 73,
      "outputs": [
        {
          "output_type": "stream",
          "name": "stdout",
          "text": "Digite o nome do posto que deseja consultar: kayc\n"
        }
      ]
    },
    {
      "metadata": {},
      "cell_type": "markdown",
      "source": "Em seguida, o for percorrerá o dicionário atrás alguma chave com o valor compatível com a variável, essa comparação é feito pelo if, caso encontre, a chave em questão terá seu valor mostrado para o usuário."
    },
    {
      "metadata": {
        "trusted": true
      },
      "cell_type": "code",
      "source": "for k, v in projeto.items():\n  if usuario in k:\n    print(f'O valor da gasolina é {v[0]} e o endereço é {v[1]}')",
      "execution_count": 74,
      "outputs": [
        {
          "output_type": "stream",
          "text": "O valor da gasolina é 6.0 e o endereço é colilna\n",
          "name": "stdout"
        }
      ]
    },
    {
      "metadata": {},
      "cell_type": "markdown",
      "source": "Se a variável usuario receber o valor \"todos\", uma lista com o nome de todos os postos de gasolina será mostrada. E o arquivo é fechado."
    },
    {
      "metadata": {
        "trusted": true
      },
      "cell_type": "code",
      "source": "if usuario == 'todos':\n    print()\n    print('Lista de postos de gasolina da grande Vitória')\n    for k in projeto:\n        print(k)\n        listap.close()",
      "execution_count": 75,
      "outputs": []
    },
    {
      "metadata": {},
      "cell_type": "markdown",
      "source": "Em seguida, uma variável é declarada para ler o arquivo novamente, usamos também um delimitador."
    },
    {
      "metadata": {
        "trusted": true
      },
      "cell_type": "code",
      "source": "f = open('Lista.csv','a')\nescrita = csv.writer(f, delimiter = ';')\n",
      "execution_count": 76,
      "outputs": []
    },
    {
      "metadata": {},
      "cell_type": "markdown",
      "source": "Uma condicional foi criada, caso o posto que o usuário pesquisar não for encontrado no arquivo, ele poderá adicionar o posto caso queira. E o mesmo ficará salvo para pesquisas futuras. "
    },
    {
      "metadata": {
        "trusted": true
      },
      "cell_type": "code",
      "source": "    if usuario not in projeto and usuario != 'todos':\n        usuario3 = input('Posto nao encontrado \\n Deseja adicionar esse posto?')\n        if usuario3 == 'sim':\n            projeto[usuario] = []\n            valor = input('Valor da Gasolina?: ')\n            projeto[usuario].append(valor)\n            ende = input('Qual Endereço do Posto?:')\n            projeto[usuario].append(ende)\n            escrita.writerow([usuario]+projeto[usuario])",
      "execution_count": 77,
      "outputs": []
    },
    {
      "metadata": {},
      "cell_type": "markdown",
      "source": "Em seguida, o usuário terá opção de escolher um posto para consultar suas informações."
    },
    {
      "metadata": {
        "trusted": true
      },
      "cell_type": "code",
      "source": "usuario = input('Deseja consultar o preço de algum posto ? ')",
      "execution_count": 78,
      "outputs": [
        {
          "output_type": "stream",
          "name": "stdout",
          "text": "Deseja consultar o preço de algum posto ? nao\n"
        }
      ]
    },
    {
      "metadata": {},
      "cell_type": "markdown",
      "source": "Caso ele tenha desejo de consultar algum posto, o programa solicitará o nome do mesmo. "
    },
    {
      "metadata": {
        "trusted": true
      },
      "cell_type": "code",
      "source": "if usuario == 'sim':\n    usuario = input('Digite o nome do posto que deseja consultar: ')\nelif usuario == 'nao':        \n    exit()",
      "execution_count": 79,
      "outputs": []
    },
    {
      "metadata": {},
      "cell_type": "markdown",
      "source": "De acordo com o valor que a variável receber, o for percorrerá o dicionário atrás alguma chave com o valor compatível com a variável, essa comparação é feito pelo if, caso encontre, a chave em questão terá seu valor na posição 0 mostrado."
    },
    {
      "metadata": {
        "trusted": true
      },
      "cell_type": "code",
      "source": "for k, v in projeto.items():\n      if usuario in k:\n        print(f'O preço do combustível é {v[0]}')",
      "execution_count": null,
      "outputs": []
    },
    {
      "metadata": {},
      "cell_type": "markdown",
      "source": "Em seguida, declaramos uma nova variável, ela também interagirá com o usuário, dando-o escolha de saber o endereço do posto anteriormente escolhido pelo mesmo."
    },
    {
      "metadata": {
        "trusted": true,
        "scrolled": true
      },
      "cell_type": "code",
      "source": "usuario2 = input('Quer saber onde fica o posto ? ')\nif usuario2 == 'sim':\n    print(f'O endereço é {v[1]}')\nelif usuaio2 == 'nao':\n    exit()",
      "execution_count": null,
      "outputs": []
    }
  ],
  "metadata": {
    "kernelspec": {
      "name": "python36",
      "display_name": "Python 3.6",
      "language": "python"
    },
    "language_info": {
      "mimetype": "text/x-python",
      "nbconvert_exporter": "python",
      "name": "python",
      "pygments_lexer": "ipython3",
      "version": "3.6.6",
      "file_extension": ".py",
      "codemirror_mode": {
        "version": 3,
        "name": "ipython"
      }
    }
  },
  "nbformat": 4,
  "nbformat_minor": 2
}